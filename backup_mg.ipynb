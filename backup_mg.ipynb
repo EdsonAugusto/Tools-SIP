{
 "cells": [
  {
   "cell_type": "code",
   "execution_count": null,
   "id": "bd2f1f19",
   "metadata": {},
   "outputs": [],
   "source": [
    "import paramiko\n",
    "import datetime\n",
    "\n",
    "\n",
    "class Backup_MG():\n",
    "\n",
    "    def __init__(self, host, username, password, port, name_gateway):\n",
    "        self.host = host\n",
    "        self.username = username\n",
    "        self.password = password\n",
    "        self.port = port\n",
    "        self.name_gateway = name_gateway\n",
    "        self.ssh = paramiko.SSHClient()\n",
    "        self.date = datetime.datetime.now()\n",
    "\n",
    "    def connection_sftp(self):\n",
    "        self.ssh.set_missing_host_key_policy(paramiko.AutoAddPolicy())\n",
    "        self.ssh.connect(hostname=self.host, username=self.username, password=self.password, port=self.port)\n",
    "        self.sftp_client = self.ssh.open_sftp()\n",
    "\n",
    "    def command_gateway(self, command):\n",
    "        self.connection_sftp()\n",
    "        stdin, stdout, stderr = self.ssh.exec_command(\"{}\".format(command))\n",
    "        return str(stdout.read().split())\n",
    "\n",
    "    def backup_gateway(self):\n",
    "        #print(self.command_gateway(\"date\"))\n",
    "        self.command_gateway(\"/home/Backups/gera_backups_arquivos.sh\")\n",
    "        #self.connection_sftp()\n",
    "        self.sftp_client.chdir('/home/Backups/backup_{}/backup_{}-{}/'.format(self.date.strftime('%Y'), self.date.strftime(\"%m\"), self.date.strftime('%Y')))\n",
    "        self.sftp_client.get('backup_{}-{}-{}.tar.gz'.format(self.date.strftime('%d'), self.date.strftime('%m'), self.date.strftime('%Y')),\n",
    "                             r'C:\\Backup\\{}_backup_{}-{}-{}.tar.gz'.format(self.name_gateway, self.date.strftime('%d'), self.date.strftime('%m'), self.date.strftime('%Y')))\n",
    "        self.sftp_client.close()\n",
    "        self.ssh.close()\n",
    "        return 'OK'\n",
    "\n",
    "    def download_pabx(self, file_recording):\n",
    "        self.command_gateway(\"cd /home/dir_name/\")\n",
    "        self.sftp_client.get(file_recording)\n",
    "        self.sftp_client.close()\n",
    "        self.ssh.close()\n",
    "        return 'OK'"
   ]
  }
 ],
 "metadata": {
  "kernelspec": {
   "display_name": "Python 3",
   "language": "python",
   "name": "python3"
  },
  "language_info": {
   "codemirror_mode": {
    "name": "ipython",
    "version": 3
   },
   "file_extension": ".py",
   "mimetype": "text/x-python",
   "name": "python",
   "nbconvert_exporter": "python",
   "pygments_lexer": "ipython3",
   "version": "3.7.6"
  }
 },
 "nbformat": 4,
 "nbformat_minor": 5
}
